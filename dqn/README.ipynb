{
 "cells": [
  {
   "cell_type": "markdown",
   "metadata": {},
   "source": [
    "# Reinforcement Learning on DonkeyCar Simulator"
   ]
  },
  {
   "cell_type": "markdown",
   "metadata": {},
   "source": [
    "## Dependencies\n",
    "- donkey-gym 0.1\n",
    "- gym 0.10.9\n",
    "- keras 1.2.0\n",
    "- numpy 1.16.2\n",
    "- opencv3 3.1.0\n",
    "- scikit-image 0.12.3\n",
    "- tensorboard 1.13.1\n",
    "- tensorflow 1.13.1\n",
    "\n",
    "Although there was a small issue when using tensorflow 1.12.0, it still runs fine. \n",
    "The only issue is that you cannot download the SVG files from tensorboard. \n",
    "\n",
    "To upgrade your tensorflow, follow the instructions below.(If you upgrade tensorflow, you also need to upgrade numpy to 1.16.2 as well.)"
   ]
  },
  {
   "cell_type": "raw",
   "metadata": {},
   "source": [
    "pip install tensorflow --upgrade"
   ]
  },
  {
   "cell_type": "markdown",
   "metadata": {},
   "source": [
    "[//]: # (Image References)\n",
    "\n",
    "[image1]: ./util/tensorboard_example.png \"Tensorboard example\""
   ]
  },
  {
   "cell_type": "markdown",
   "metadata": {},
   "source": [
    "## Monitor Progress\n",
    "Here I use tensorboard to monitor the learning progress as bellow."
   ]
  },
  {
   "cell_type": "markdown",
   "metadata": {},
   "source": [
    "![alt text][image1]"
   ]
  },
  {
   "cell_type": "markdown",
   "metadata": {},
   "source": [
    "## Legal Notice\n",
    "\n",
    "Package is under MIT license. Authored by Tawn Kramer and original sources located [here](https://github.com/tawnkramer/donkey_gym/)."
   ]
  }
 ],
 "metadata": {
  "kernelspec": {
   "display_name": "Python 3",
   "language": "python",
   "name": "python3"
  }
 },
 "nbformat": 4,
 "nbformat_minor": 2
}
